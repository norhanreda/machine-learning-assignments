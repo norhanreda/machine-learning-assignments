{
 "cells": [
  {
   "cell_type": "markdown",
   "id": "22e6cccd",
   "metadata": {},
   "source": [
    "## Problem 2.24"
   ]
  },
  {
   "cell_type": "code",
   "execution_count": null,
   "id": "bd9c9271",
   "metadata": {},
   "outputs": [],
   "source": [
    "# TODO: Add your imports"
   ]
  },
  {
   "cell_type": "markdown",
   "id": "f9f57877",
   "metadata": {},
   "source": [
    "### 2.24 (B)"
   ]
  },
  {
   "cell_type": "code",
   "execution_count": null,
   "id": "02157f6f",
   "metadata": {},
   "outputs": [],
   "source": [
    "def target_function():\n",
    "    # TODO: implement target function\n",
    "    pass"
   ]
  },
  {
   "cell_type": "code",
   "execution_count": null,
   "id": "d09e0c9a",
   "metadata": {},
   "outputs": [],
   "source": [
    "def run_numerical_experiment():\n",
    "    # TODO: implement experiment\n",
    "    pass"
   ]
  },
  {
   "cell_type": "markdown",
   "id": "8d72457a",
   "metadata": {},
   "source": [
    "### 2.24 (C)"
   ]
  },
  {
   "cell_type": "code",
   "execution_count": null,
   "id": "6f7b6444",
   "metadata": {},
   "outputs": [],
   "source": [
    "# TODO: Run experiment and calculate bias and variance (+ plotting)"
   ]
  },
  {
   "cell_type": "markdown",
   "id": "abe3fcbd",
   "metadata": {},
   "source": [
    "### 2.24 (E)"
   ]
  },
  {
   "cell_type": "code",
   "execution_count": null,
   "id": "b117f65a",
   "metadata": {},
   "outputs": [],
   "source": [
    "# TODO: Run experiment for quadratic hypothesis"
   ]
  }
 ],
 "metadata": {
  "kernelspec": {
   "display_name": "Python 3",
   "language": "python",
   "name": "python3"
  },
  "language_info": {
   "codemirror_mode": {
    "name": "ipython",
    "version": 3
   },
   "file_extension": ".py",
   "mimetype": "text/x-python",
   "name": "python",
   "nbconvert_exporter": "python",
   "pygments_lexer": "ipython3",
   "version": "3.8.3"
  }
 },
 "nbformat": 4,
 "nbformat_minor": 5
}
